{
 "cells": [
  {
   "cell_type": "markdown",
   "metadata": {},
   "source": [
    "**Task** : In a single toss of $2$ fair (evenly weighted) six-sided dice, find the probability that their sum will at most be $9$."
   ]
  },
  {
   "cell_type": "markdown",
   "metadata": {},
   "source": [
    "This problem can be written as $P(Z \\leq 9) $ which then is equal to $1-P(Z \\geq 10) $. This is equivalent to $1 - (P(Z=10)+P(Z=11)+P(Z=12))$. Then we need to find the probability for $Z=10, Z=11, Z=12$."
   ]
  },
  {
   "cell_type": "markdown",
   "metadata": {},
   "source": [
    "In order to get $Z=10$ we can have the following combinations of $(x_{1}, x_{2})$: $(4,6), (6,4), (5,5)$ which is $3$ combinations.\n"
   ]
  },
  {
   "cell_type": "markdown",
   "metadata": {},
   "source": [
    "In order to get $Z=11$ we can have the following combinations of $(x_{1}, x_{2})$: $(5,6) $ and $(6,5)$ which is $2$ combinations.\n"
   ]
  },
  {
   "cell_type": "markdown",
   "metadata": {},
   "source": [
    "Finally to get $Z=12$ there is only one combination of $(x_{1}, x_{2}): (6,6)$"
   ]
  },
  {
   "cell_type": "markdown",
   "metadata": {},
   "source": [
    "Then we have $1-\\frac{6}{36}  = 1-\\frac{1}{6} = \\frac{5}{6}$"
   ]
  },
  {
   "cell_type": "code",
   "execution_count": null,
   "metadata": {},
   "outputs": [],
   "source": []
  }
 ],
 "metadata": {
  "kernelspec": {
   "display_name": "Python 3",
   "language": "python",
   "name": "python3"
  },
  "language_info": {
   "codemirror_mode": {
    "name": "ipython",
    "version": 3
   },
   "file_extension": ".py",
   "mimetype": "text/x-python",
   "name": "python",
   "nbconvert_exporter": "python",
   "pygments_lexer": "ipython3",
   "version": "3.7.1"
  }
 },
 "nbformat": 4,
 "nbformat_minor": 2
}
