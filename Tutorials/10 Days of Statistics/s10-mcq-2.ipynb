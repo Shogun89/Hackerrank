{
 "cells": [
  {
   "cell_type": "markdown",
   "metadata": {},
   "source": [
    "**Task**:  In a single toss of $2$ fair (evenly weighted) six-sided dice, find the probability that the values by each die will be different and the two dice have a sum of $6$."
   ]
  },
  {
   "cell_type": "markdown",
   "metadata": {},
   "source": [
    "For this we want to look at the probability $P(Z=6)$ where $Z=x_{1}+x_{2}$ and $x_{1} \\neq x_{2}$"
   ]
  },
  {
   "cell_type": "markdown",
   "metadata": {},
   "source": [
    "To make $6$ we can have the following combinations for $(x_{1}, x_{2})$:  $(1,5), (5,1), (2,4), (4,2), (3,3)$"
   ]
  },
  {
   "cell_type": "markdown",
   "metadata": {},
   "source": [
    "Of those we see that only $(3,3)$ is an issue so we are left with $P(Z=6|x_{1} \\neq x_{2}) = \\frac{4}{36} = \\frac{1}{9}$"
   ]
  },
  {
   "cell_type": "code",
   "execution_count": null,
   "metadata": {},
   "outputs": [],
   "source": []
  }
 ],
 "metadata": {
  "kernelspec": {
   "display_name": "Python 3",
   "language": "python",
   "name": "python3"
  },
  "language_info": {
   "codemirror_mode": {
    "name": "ipython",
    "version": 3
   },
   "file_extension": ".py",
   "mimetype": "text/x-python",
   "name": "python",
   "nbconvert_exporter": "python",
   "pygments_lexer": "ipython3",
   "version": "3.7.1"
  }
 },
 "nbformat": 4,
 "nbformat_minor": 2
}
