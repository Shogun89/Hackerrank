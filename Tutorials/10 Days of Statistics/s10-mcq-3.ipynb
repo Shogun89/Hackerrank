{
 "cells": [
  {
   "cell_type": "markdown",
   "metadata": {},
   "source": [
    "**Task**: There $3$ urns labeled $X,Y,Z$. \n",
    "\n",
    "- Urn X contains $4$ red balls and $3$ black balls.\n",
    "- Urn Y contains $5$ red balls and $4$ black balls.\n",
    "- Urn Z contains $4$ red balls and $4$ black balls."
   ]
  },
  {
   "cell_type": "markdown",
   "metadata": {},
   "source": [
    "One ball is drawn from each of the $3$ urns. What is the probability that, of the $3$ balls drawn, $2$ are red and $1$ is black. "
   ]
  },
  {
   "cell_type": "markdown",
   "metadata": {},
   "source": [
    "To find we want to look at $P(\\textrm{2 red}, \\textrm{1 black})$. Note that each event is independent of the other event. "
   ]
  },
  {
   "cell_type": "markdown",
   "metadata": {},
   "source": [
    "Listing this below \n",
    "- The probability to produce a red ball.\n",
    "-  Urn X : $\\frac{4}{7}$.\n",
    "-  Urn Y : $\\frac{5}{9}$ .\n",
    "- Urn Z : $\\frac{1}{2}$.\n",
    "\n",
    "- The probability to produce a black ball.\n",
    "-  Urn X : $ \\frac{3}{7}$.\n",
    "- Urn Y : $\\frac{4}{9}$.\n",
    "- Urn Z :  $\\frac{1}{2}$."
   ]
  },
  {
   "cell_type": "markdown",
   "metadata": {},
   "source": [
    "Then finding $P(\\textrm{2 red}, \\textrm{1 black})$ we get the following. \n",
    "- $P(\\textrm{2 red}, \\textrm{1 black}) = P(\\textrm{Red Red Black}) + P(\\textrm{Red Black Red}) + P(\\textrm{Black Red Red})$\n",
    "- $  P(\\textrm{Red Red Black}) = \\frac{4}{7}\\cdot \\frac{5}{9} \\cdot \\frac{1}{2} $\n",
    "- $ P(\\textrm{Red Black Red}) = \\frac{4}{7}\\frac{4}{9}\\frac{1}{2} $\n",
    "- $ P(\\textrm{Black Red Red}) = \\frac{3}{7} \\frac{5}{9} \\frac{1}{2} $\n",
    "- $ = \\frac{20}{126} + \\frac{16}{126} + \\frac{15}{126} $\n",
    "- $ = \\frac{51}{126} $\n",
    "- $ = \\frac{17}{42}$\n"
   ]
  },
  {
   "cell_type": "code",
   "execution_count": null,
   "metadata": {},
   "outputs": [],
   "source": []
  }
 ],
 "metadata": {
  "kernelspec": {
   "display_name": "Python 3",
   "language": "python",
   "name": "python3"
  },
  "language_info": {
   "codemirror_mode": {
    "name": "ipython",
    "version": 3
   },
   "file_extension": ".py",
   "mimetype": "text/x-python",
   "name": "python",
   "nbconvert_exporter": "python",
   "pygments_lexer": "ipython3",
   "version": "3.7.1"
  }
 },
 "nbformat": 4,
 "nbformat_minor": 2
}
